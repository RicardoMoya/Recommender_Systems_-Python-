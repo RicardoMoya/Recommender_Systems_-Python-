{
 "cells": [
  {
   "cell_type": "markdown",
   "metadata": {
    "colab_type": "text",
    "id": "VjPUbFbgwPhR"
   },
   "source": [
    "# 3.2.2.- Implementación de un Sistema de Recomendación de películas con Factorización Matricial: MovieLens\n",
    "\n",
    "\n",
    "* En este Notebook vamos a implementar y evaluar un ***Sistema de Recomendación basado en Filtrado Colaborativo con Factorización Matricial*** usando la base de datos de [MovieLens 100K](https://grouplens.org/datasets/movielens/).\n",
    "\n",
    "\n",
    "* Esta base de datos contiene 100.000 votos con notas de 1 a 5 de 943 usuarios sobre 1682 películas.\n",
    "\n",
    "\n",
    "* Este dataset ha sido dividido en votaciones de entrenamiento (80%) y votaciones de test (20%). Además para simplificar el problema, los códigos de usuarios e items, han sido modificados para que comience en 0 y terminen en el número de (usuarios / items) - 1.\n",
    "\n",
    "\n",
    "* Para ***implementar y evaluar este Sistema de Recomendación*** realizaremos los siguientes paso:\n",
    "<span></span><br>\n",
    "    1. [Lectura del Dataset (Entrenamiento y Test)](#M1)\n",
    "<span></span><br>\n",
    "    2. [Implementación: Cálculo de las Predicciones](#M2)\n",
    "<span></span><br>\n",
    "    3. [Implementación: PMF](#M3)\n",
    "<span></span><br>\n",
    "    4. [Cálculo de las recomendaciones(*)](#M4)\n",
    "<span></span><br>\n",
    "    5. [Evaluación del Sistema de Recomendación (MAE)](#M5)\n",
    "<span></span><br>\n",
    "    6. [Sistema de Recomendación y Evaluación](#M6)\n",
    "\n",
    "\n",
    "##### (*): El punto del cálculo de las Recomendaciones no lo vamos a realizar ya que este punto no es relevante de cara a evaluar el sistema de recomendación implementado.\n"
   ]
  },
  {
   "cell_type": "markdown",
   "metadata": {
    "colab_type": "text",
    "id": "qj19DL6RCIZq"
   },
   "source": [
    "<hr>\n",
    "\n",
    "\n",
    "# <a name=\"M1\">1.- Lectura del Dataset (Entrenamiento y Test)\n",
    "    \n",
    "    \n",
    "* A continuación implementamos una función que data la ruta donde se encuentra un fichero con la estructura \"ID_USER::ID_MOVIE::RATING\" nos devuelva una matriz de votos:"
   ]
  },
  {
   "cell_type": "code",
   "execution_count": 1,
   "metadata": {
    "colab": {},
    "colab_type": "code",
    "id": "j-n03OB1CxVe"
   },
   "outputs": [],
   "source": [
    "def read_ratings_matrix(file):\n",
    "\n",
    "    ratings = [[None for _ in range(NUM_ITEMS)] for _ in range(NUM_USERS)] \n",
    "    \n",
    "    with open(file, 'r') as reader:\n",
    "        for line in reader:\n",
    "            [u, i, rating] = line.split(\"::\")\n",
    "            ratings[int(u)][int(i)] = int(rating)\n",
    "            \n",
    "    return ratings"
   ]
  },
  {
   "cell_type": "markdown",
   "metadata": {},
   "source": [
    "# <a name=\"M2\">2.- Implementación: Cálculo de las Predicciones</a>\n",
    "    \n",
    "* A continuación se implemetan los métodos necesarios para el cáculo de las predicciones:"
   ]
  },
  {
   "cell_type": "code",
   "execution_count": 2,
   "metadata": {},
   "outputs": [],
   "source": [
    "from tqdm.notebook import tqdm\n",
    "\n",
    "# Calculo del voto medio de la base de datos\n",
    "def get_avg_ratings(ratings_matrix):\n",
    "    \n",
    "    sum_ratings = 0\n",
    "    count_ratings = 0\n",
    "\n",
    "    for u in tqdm(range(NUM_USERS), leave=False):\n",
    "        for i in range(NUM_ITEMS):\n",
    "            if ratings_matrix[u][i] != None:\n",
    "                sum_ratings += ratings_matrix[u][i]\n",
    "                count_ratings += 1\n",
    "\n",
    "    return sum_ratings/float(count_ratings)\n",
    "\n",
    "\n",
    "# Cálculo de una predicción (con el bias)\n",
    "def compute_biased_prediction (avg, b_u, b_i, p_u, q_i, num_factors):\n",
    "    deviation = 0\n",
    "    for k in range(num_factors):\n",
    "        deviation += p_u[k] * q_i[k]\n",
    "        \n",
    "    prediction = avg + b_u + b_i + deviation\n",
    "    return prediction\n",
    "\n",
    "\n",
    "# Calculo de todas las predicciones del sistema (con el bias)\n",
    "def calculate_biased_predictions(avg, bu, bi, p, q, num_factors):\n",
    "    \n",
    "    predictions = [[0 for _ in range(NUM_ITEMS)] for _ in range(NUM_USERS)] \n",
    "    \n",
    "    # Recorremos la matriz de votos\n",
    "    for i in tqdm(range(NUM_USERS), leave=False):\n",
    "        for j in range(NUM_ITEMS):\n",
    "            predictions[i][j] = compute_biased_prediction(avg=avg, b_u=bu[i], b_i=bi[j], p_u=p[i], q_i=q[j], \n",
    "                                                          num_factors=num_factors)\n",
    "    \n",
    "    return predictions"
   ]
  },
  {
   "cell_type": "markdown",
   "metadata": {},
   "source": [
    "# <a name=\"M3\">3.- Implementación: PMF</a>\n",
    "\n",
    "\n",
    "* A continuación vamos a implementar una función llamada ***pmf_biased()*** (Factorización Matricial añadiendo el Bias) que recibiendo los parámetros que describimos a continuación, nos devolvera las matrices P y Q así como los bias de los usuarios y de los items; es decir el modelo, con los factores latentes de los usuarios y de los items y los bias optimizados:\n",
    "<span></span><br><br>\n",
    "    + $ratings\\_matrix$: Matriz de votos\n",
    "    + $num\\_factors$: Número de Factores a calcular\n",
    "    + $avg$: Voto medio de la base de datos\n",
    "    + $bu$: Bias de los usuarios\n",
    "    + $bi$: Bias de los items\n",
    "    + $p$: Matriz con los factores latentes de los usuarios\n",
    "    + $q$: Matriz con los factores latentes de los items\n",
    "    + $epochs$: Número de epochs a realizar por el gradiente descendente\n",
    "    + $learning\\_rate$: Factor de aprendizaje\n",
    "    + $regularization\\_rate$: Factor de Regularización\n",
    "    \n",
    "    \n",
    "* Recordemos como calcular la predicción, el error y los parámetros a calcular:\n",
    "\n",
    "$$\\hat{r}_{u,i} = \\mu + b_u + b_i + \\vec{p}_u \\cdot \\vec{q}_i$$\n",
    "\n",
    "$$e_{u,i} = r_{u,i} - \\mu - b_u - b_i - \\vec{p}_u \\cdot \\vec{q}_i$$\n",
    "\n",
    "$$b_u = b_u + \\gamma (e_{u,i} - \\lambda b_u)$$\n",
    "\n",
    "$$b_i = b_i + \\gamma (e_{u,i} - \\lambda b_i)$$\n",
    "\n",
    "$$\\vec{p}_u = \\vec{p}_u + \\gamma (e_{u,i} \\cdot \\vec{q}_i - \\lambda \\vec{p}_u)$$\n",
    "\n",
    "$$\\vec{q}_i = \\vec{q}_i + \\gamma (e_{u,i} \\cdot \\vec{p}_u - \\lambda \\vec{q}_i)$$"
   ]
  },
  {
   "cell_type": "code",
   "execution_count": 3,
   "metadata": {},
   "outputs": [],
   "source": [
    "def pmf_biased(ratings_matrix, num_factors, avg, epochs, learning_rate, regularization_rate):\n",
    "\n",
    "    random.seed(0)\n",
    "    \n",
    "    # Creamos las matrices de factores latentes de los usuarios e items\n",
    "    p = [[random.random() for _ in range(num_factors)] for _ in range(NUM_USERS)] \n",
    "    q = [[random.random() for _ in range(num_factors)] for _ in range(NUM_ITEMS)] \n",
    "\n",
    "    # Creamos los bias de los usuarios y de los items\n",
    "    bu = [random.random() for _ in range(NUM_USERS)]\n",
    "    bi = [random.random() for _ in range(NUM_ITEMS)]\n",
    "    \n",
    "    for epoch in tqdm(range(epochs), desc='Epoch', leave=False):\n",
    "        # Ajustamos de las matrices de factores latentes y bias de los usuarios e items\n",
    "        for u in range(NUM_USERS):\n",
    "            for i in range(NUM_ITEMS):\n",
    "                if ratings_matrix[u][i] != None:\n",
    "                    prediction = compute_biased_prediction(avg=avg, b_u=bu[u], b_i=bi[i], \n",
    "                                                           p_u=p[u], q_i=q[i], num_factors=num_factors)\n",
    "                    rating = ratings_matrix[u][i]\n",
    "                    error = rating - prediction\n",
    "                    \n",
    "                    for k in range(num_factors):\n",
    "                        p[u][k] += learning_rate * (error * q[i][k] - regularization_rate * p[u][k])\n",
    "                        q[i][k] += learning_rate * (error * p[u][k] - regularization_rate * q[i][k])\n",
    "                    \n",
    "                    bu[u] += learning_rate * (error - regularization_rate * bu[u])\n",
    "                    bi[i] += learning_rate * (error - regularization_rate * bi[i])\n",
    "\n",
    "        \n",
    "    return bu, bi, p, q"
   ]
  },
  {
   "cell_type": "markdown",
   "metadata": {},
   "source": [
    "<hr>\n",
    "\n",
    "\n",
    "# <a name=\"M5\"> 5.- Evaluación del Sistema de Recomendación (MAE)</a>\n",
    "    \n",
    "    \n",
    "* A continuación se implementa un método que dada la matriz de votos y la matriz de predicciones nos devuelve el MAE del Sistema de Recomendación:"
   ]
  },
  {
   "cell_type": "code",
   "execution_count": 4,
   "metadata": {},
   "outputs": [],
   "source": [
    "def get_mae(ratings_matrix, predictions_matrix):\n",
    "    \n",
    "    mae_users = [None for _ in ratings_matrix]\n",
    "    \n",
    "    # Recorremos la matriz de votos\n",
    "    for i, u in enumerate(tqdm(ratings_matrix, desc='MAE', leave=False)):\n",
    "        # Calculamos el MAE de cada usuario\n",
    "        sum_user = 0\n",
    "        count = 0\n",
    "        for j, v in enumerate(ratings_matrix[0]):\n",
    "            if ratings_matrix[i][j] != None and predictions_matrix[i][j] != None:\n",
    "                sum_user += abs(ratings_matrix[i][j] - predictions_matrix[i][j])\n",
    "                count += 1\n",
    "        mae_users[i] = sum_user/count if count > 0 else None\n",
    "\n",
    "    return np.nanmean(np.array(mae_users, dtype=np.float), axis=0)\n"
   ]
  },
  {
   "cell_type": "markdown",
   "metadata": {},
   "source": [
    "<hr>\n",
    "\n",
    "\n",
    "# <a name=\"M6\">6.- Sistema de Recomendación y Evaluación</a>\n",
    "    \n",
    "    \n",
    "* A continuación se implementa el \"Sistema de Recomendación\", en el cual para diferente número de factores:\n",
    "    + Lectura de los datos de entrenamiento y test\n",
    "    + Ajustaremos el modelo: Matrices de factores latentes y bias de los usuarios e items.\n",
    "    + Realizaremos las predicciones\n",
    "    + Evaluaremos para cada experimento los conjuntos de entrenamiento y test."
   ]
  },
  {
   "cell_type": "code",
   "execution_count": 5,
   "metadata": {
    "scrolled": false
   },
   "outputs": [
    {
     "data": {
      "application/vnd.jupyter.widget-view+json": {
       "model_id": "",
       "version_major": 2,
       "version_minor": 0
      },
      "text/plain": [
       "HBox(children=(HTML(value=''), FloatProgress(value=0.0, max=943.0), HTML(value='')))"
      ]
     },
     "metadata": {},
     "output_type": "display_data"
    },
    {
     "data": {
      "application/vnd.jupyter.widget-view+json": {
       "model_id": "",
       "version_major": 2,
       "version_minor": 0
      },
      "text/plain": [
       "HBox(children=(HTML(value='Factores'), FloatProgress(value=0.0, max=20.0), HTML(value='')))"
      ]
     },
     "metadata": {},
     "output_type": "display_data"
    },
    {
     "data": {
      "application/vnd.jupyter.widget-view+json": {
       "model_id": "",
       "version_major": 2,
       "version_minor": 0
      },
      "text/plain": [
       "HBox(children=(HTML(value='Epoch'), FloatProgress(value=0.0, max=10.0), HTML(value='')))"
      ]
     },
     "metadata": {},
     "output_type": "display_data"
    },
    {
     "data": {
      "application/vnd.jupyter.widget-view+json": {
       "model_id": "",
       "version_major": 2,
       "version_minor": 0
      },
      "text/plain": [
       "HBox(children=(HTML(value=''), FloatProgress(value=0.0, max=943.0), HTML(value='')))"
      ]
     },
     "metadata": {},
     "output_type": "display_data"
    },
    {
     "data": {
      "application/vnd.jupyter.widget-view+json": {
       "model_id": "",
       "version_major": 2,
       "version_minor": 0
      },
      "text/plain": [
       "HBox(children=(HTML(value='MAE'), FloatProgress(value=0.0, max=943.0), HTML(value='')))"
      ]
     },
     "metadata": {},
     "output_type": "display_data"
    },
    {
     "data": {
      "application/vnd.jupyter.widget-view+json": {
       "model_id": "",
       "version_major": 2,
       "version_minor": 0
      },
      "text/plain": [
       "HBox(children=(HTML(value='MAE'), FloatProgress(value=0.0, max=943.0), HTML(value='')))"
      ]
     },
     "metadata": {},
     "output_type": "display_data"
    },
    {
     "data": {
      "application/vnd.jupyter.widget-view+json": {
       "model_id": "",
       "version_major": 2,
       "version_minor": 0
      },
      "text/plain": [
       "HBox(children=(HTML(value='Epoch'), FloatProgress(value=0.0, max=10.0), HTML(value='')))"
      ]
     },
     "metadata": {},
     "output_type": "display_data"
    },
    {
     "data": {
      "application/vnd.jupyter.widget-view+json": {
       "model_id": "",
       "version_major": 2,
       "version_minor": 0
      },
      "text/plain": [
       "HBox(children=(HTML(value=''), FloatProgress(value=0.0, max=943.0), HTML(value='')))"
      ]
     },
     "metadata": {},
     "output_type": "display_data"
    },
    {
     "data": {
      "application/vnd.jupyter.widget-view+json": {
       "model_id": "",
       "version_major": 2,
       "version_minor": 0
      },
      "text/plain": [
       "HBox(children=(HTML(value='MAE'), FloatProgress(value=0.0, max=943.0), HTML(value='')))"
      ]
     },
     "metadata": {},
     "output_type": "display_data"
    },
    {
     "data": {
      "application/vnd.jupyter.widget-view+json": {
       "model_id": "",
       "version_major": 2,
       "version_minor": 0
      },
      "text/plain": [
       "HBox(children=(HTML(value='MAE'), FloatProgress(value=0.0, max=943.0), HTML(value='')))"
      ]
     },
     "metadata": {},
     "output_type": "display_data"
    },
    {
     "data": {
      "application/vnd.jupyter.widget-view+json": {
       "model_id": "",
       "version_major": 2,
       "version_minor": 0
      },
      "text/plain": [
       "HBox(children=(HTML(value='Epoch'), FloatProgress(value=0.0, max=10.0), HTML(value='')))"
      ]
     },
     "metadata": {},
     "output_type": "display_data"
    },
    {
     "data": {
      "application/vnd.jupyter.widget-view+json": {
       "model_id": "",
       "version_major": 2,
       "version_minor": 0
      },
      "text/plain": [
       "HBox(children=(HTML(value=''), FloatProgress(value=0.0, max=943.0), HTML(value='')))"
      ]
     },
     "metadata": {},
     "output_type": "display_data"
    },
    {
     "data": {
      "application/vnd.jupyter.widget-view+json": {
       "model_id": "",
       "version_major": 2,
       "version_minor": 0
      },
      "text/plain": [
       "HBox(children=(HTML(value='MAE'), FloatProgress(value=0.0, max=943.0), HTML(value='')))"
      ]
     },
     "metadata": {},
     "output_type": "display_data"
    },
    {
     "data": {
      "application/vnd.jupyter.widget-view+json": {
       "model_id": "",
       "version_major": 2,
       "version_minor": 0
      },
      "text/plain": [
       "HBox(children=(HTML(value='MAE'), FloatProgress(value=0.0, max=943.0), HTML(value='')))"
      ]
     },
     "metadata": {},
     "output_type": "display_data"
    },
    {
     "data": {
      "application/vnd.jupyter.widget-view+json": {
       "model_id": "",
       "version_major": 2,
       "version_minor": 0
      },
      "text/plain": [
       "HBox(children=(HTML(value='Epoch'), FloatProgress(value=0.0, max=10.0), HTML(value='')))"
      ]
     },
     "metadata": {},
     "output_type": "display_data"
    },
    {
     "data": {
      "application/vnd.jupyter.widget-view+json": {
       "model_id": "",
       "version_major": 2,
       "version_minor": 0
      },
      "text/plain": [
       "HBox(children=(HTML(value=''), FloatProgress(value=0.0, max=943.0), HTML(value='')))"
      ]
     },
     "metadata": {},
     "output_type": "display_data"
    },
    {
     "data": {
      "application/vnd.jupyter.widget-view+json": {
       "model_id": "",
       "version_major": 2,
       "version_minor": 0
      },
      "text/plain": [
       "HBox(children=(HTML(value='MAE'), FloatProgress(value=0.0, max=943.0), HTML(value='')))"
      ]
     },
     "metadata": {},
     "output_type": "display_data"
    },
    {
     "data": {
      "application/vnd.jupyter.widget-view+json": {
       "model_id": "",
       "version_major": 2,
       "version_minor": 0
      },
      "text/plain": [
       "HBox(children=(HTML(value='MAE'), FloatProgress(value=0.0, max=943.0), HTML(value='')))"
      ]
     },
     "metadata": {},
     "output_type": "display_data"
    },
    {
     "data": {
      "application/vnd.jupyter.widget-view+json": {
       "model_id": "",
       "version_major": 2,
       "version_minor": 0
      },
      "text/plain": [
       "HBox(children=(HTML(value='Epoch'), FloatProgress(value=0.0, max=10.0), HTML(value='')))"
      ]
     },
     "metadata": {},
     "output_type": "display_data"
    },
    {
     "data": {
      "application/vnd.jupyter.widget-view+json": {
       "model_id": "",
       "version_major": 2,
       "version_minor": 0
      },
      "text/plain": [
       "HBox(children=(HTML(value=''), FloatProgress(value=0.0, max=943.0), HTML(value='')))"
      ]
     },
     "metadata": {},
     "output_type": "display_data"
    },
    {
     "data": {
      "application/vnd.jupyter.widget-view+json": {
       "model_id": "",
       "version_major": 2,
       "version_minor": 0
      },
      "text/plain": [
       "HBox(children=(HTML(value='MAE'), FloatProgress(value=0.0, max=943.0), HTML(value='')))"
      ]
     },
     "metadata": {},
     "output_type": "display_data"
    },
    {
     "data": {
      "application/vnd.jupyter.widget-view+json": {
       "model_id": "",
       "version_major": 2,
       "version_minor": 0
      },
      "text/plain": [
       "HBox(children=(HTML(value='MAE'), FloatProgress(value=0.0, max=943.0), HTML(value='')))"
      ]
     },
     "metadata": {},
     "output_type": "display_data"
    },
    {
     "data": {
      "application/vnd.jupyter.widget-view+json": {
       "model_id": "",
       "version_major": 2,
       "version_minor": 0
      },
      "text/plain": [
       "HBox(children=(HTML(value='Epoch'), FloatProgress(value=0.0, max=10.0), HTML(value='')))"
      ]
     },
     "metadata": {},
     "output_type": "display_data"
    },
    {
     "data": {
      "application/vnd.jupyter.widget-view+json": {
       "model_id": "",
       "version_major": 2,
       "version_minor": 0
      },
      "text/plain": [
       "HBox(children=(HTML(value=''), FloatProgress(value=0.0, max=943.0), HTML(value='')))"
      ]
     },
     "metadata": {},
     "output_type": "display_data"
    },
    {
     "data": {
      "application/vnd.jupyter.widget-view+json": {
       "model_id": "",
       "version_major": 2,
       "version_minor": 0
      },
      "text/plain": [
       "HBox(children=(HTML(value='MAE'), FloatProgress(value=0.0, max=943.0), HTML(value='')))"
      ]
     },
     "metadata": {},
     "output_type": "display_data"
    },
    {
     "data": {
      "application/vnd.jupyter.widget-view+json": {
       "model_id": "",
       "version_major": 2,
       "version_minor": 0
      },
      "text/plain": [
       "HBox(children=(HTML(value='MAE'), FloatProgress(value=0.0, max=943.0), HTML(value='')))"
      ]
     },
     "metadata": {},
     "output_type": "display_data"
    },
    {
     "data": {
      "application/vnd.jupyter.widget-view+json": {
       "model_id": "",
       "version_major": 2,
       "version_minor": 0
      },
      "text/plain": [
       "HBox(children=(HTML(value='Epoch'), FloatProgress(value=0.0, max=10.0), HTML(value='')))"
      ]
     },
     "metadata": {},
     "output_type": "display_data"
    },
    {
     "data": {
      "application/vnd.jupyter.widget-view+json": {
       "model_id": "",
       "version_major": 2,
       "version_minor": 0
      },
      "text/plain": [
       "HBox(children=(HTML(value=''), FloatProgress(value=0.0, max=943.0), HTML(value='')))"
      ]
     },
     "metadata": {},
     "output_type": "display_data"
    },
    {
     "data": {
      "application/vnd.jupyter.widget-view+json": {
       "model_id": "",
       "version_major": 2,
       "version_minor": 0
      },
      "text/plain": [
       "HBox(children=(HTML(value='MAE'), FloatProgress(value=0.0, max=943.0), HTML(value='')))"
      ]
     },
     "metadata": {},
     "output_type": "display_data"
    },
    {
     "data": {
      "application/vnd.jupyter.widget-view+json": {
       "model_id": "",
       "version_major": 2,
       "version_minor": 0
      },
      "text/plain": [
       "HBox(children=(HTML(value='MAE'), FloatProgress(value=0.0, max=943.0), HTML(value='')))"
      ]
     },
     "metadata": {},
     "output_type": "display_data"
    },
    {
     "data": {
      "application/vnd.jupyter.widget-view+json": {
       "model_id": "",
       "version_major": 2,
       "version_minor": 0
      },
      "text/plain": [
       "HBox(children=(HTML(value='Epoch'), FloatProgress(value=0.0, max=10.0), HTML(value='')))"
      ]
     },
     "metadata": {},
     "output_type": "display_data"
    },
    {
     "data": {
      "application/vnd.jupyter.widget-view+json": {
       "model_id": "",
       "version_major": 2,
       "version_minor": 0
      },
      "text/plain": [
       "HBox(children=(HTML(value=''), FloatProgress(value=0.0, max=943.0), HTML(value='')))"
      ]
     },
     "metadata": {},
     "output_type": "display_data"
    },
    {
     "data": {
      "application/vnd.jupyter.widget-view+json": {
       "model_id": "",
       "version_major": 2,
       "version_minor": 0
      },
      "text/plain": [
       "HBox(children=(HTML(value='MAE'), FloatProgress(value=0.0, max=943.0), HTML(value='')))"
      ]
     },
     "metadata": {},
     "output_type": "display_data"
    },
    {
     "data": {
      "application/vnd.jupyter.widget-view+json": {
       "model_id": "",
       "version_major": 2,
       "version_minor": 0
      },
      "text/plain": [
       "HBox(children=(HTML(value='MAE'), FloatProgress(value=0.0, max=943.0), HTML(value='')))"
      ]
     },
     "metadata": {},
     "output_type": "display_data"
    },
    {
     "data": {
      "application/vnd.jupyter.widget-view+json": {
       "model_id": "",
       "version_major": 2,
       "version_minor": 0
      },
      "text/plain": [
       "HBox(children=(HTML(value='Epoch'), FloatProgress(value=0.0, max=10.0), HTML(value='')))"
      ]
     },
     "metadata": {},
     "output_type": "display_data"
    },
    {
     "data": {
      "application/vnd.jupyter.widget-view+json": {
       "model_id": "",
       "version_major": 2,
       "version_minor": 0
      },
      "text/plain": [
       "HBox(children=(HTML(value=''), FloatProgress(value=0.0, max=943.0), HTML(value='')))"
      ]
     },
     "metadata": {},
     "output_type": "display_data"
    },
    {
     "data": {
      "application/vnd.jupyter.widget-view+json": {
       "model_id": "",
       "version_major": 2,
       "version_minor": 0
      },
      "text/plain": [
       "HBox(children=(HTML(value='MAE'), FloatProgress(value=0.0, max=943.0), HTML(value='')))"
      ]
     },
     "metadata": {},
     "output_type": "display_data"
    },
    {
     "data": {
      "application/vnd.jupyter.widget-view+json": {
       "model_id": "",
       "version_major": 2,
       "version_minor": 0
      },
      "text/plain": [
       "HBox(children=(HTML(value='MAE'), FloatProgress(value=0.0, max=943.0), HTML(value='')))"
      ]
     },
     "metadata": {},
     "output_type": "display_data"
    },
    {
     "data": {
      "application/vnd.jupyter.widget-view+json": {
       "model_id": "",
       "version_major": 2,
       "version_minor": 0
      },
      "text/plain": [
       "HBox(children=(HTML(value='Epoch'), FloatProgress(value=0.0, max=10.0), HTML(value='')))"
      ]
     },
     "metadata": {},
     "output_type": "display_data"
    },
    {
     "data": {
      "application/vnd.jupyter.widget-view+json": {
       "model_id": "",
       "version_major": 2,
       "version_minor": 0
      },
      "text/plain": [
       "HBox(children=(HTML(value=''), FloatProgress(value=0.0, max=943.0), HTML(value='')))"
      ]
     },
     "metadata": {},
     "output_type": "display_data"
    },
    {
     "data": {
      "application/vnd.jupyter.widget-view+json": {
       "model_id": "",
       "version_major": 2,
       "version_minor": 0
      },
      "text/plain": [
       "HBox(children=(HTML(value='MAE'), FloatProgress(value=0.0, max=943.0), HTML(value='')))"
      ]
     },
     "metadata": {},
     "output_type": "display_data"
    },
    {
     "data": {
      "application/vnd.jupyter.widget-view+json": {
       "model_id": "",
       "version_major": 2,
       "version_minor": 0
      },
      "text/plain": [
       "HBox(children=(HTML(value='MAE'), FloatProgress(value=0.0, max=943.0), HTML(value='')))"
      ]
     },
     "metadata": {},
     "output_type": "display_data"
    },
    {
     "data": {
      "application/vnd.jupyter.widget-view+json": {
       "model_id": "",
       "version_major": 2,
       "version_minor": 0
      },
      "text/plain": [
       "HBox(children=(HTML(value='Epoch'), FloatProgress(value=0.0, max=10.0), HTML(value='')))"
      ]
     },
     "metadata": {},
     "output_type": "display_data"
    },
    {
     "data": {
      "application/vnd.jupyter.widget-view+json": {
       "model_id": "",
       "version_major": 2,
       "version_minor": 0
      },
      "text/plain": [
       "HBox(children=(HTML(value=''), FloatProgress(value=0.0, max=943.0), HTML(value='')))"
      ]
     },
     "metadata": {},
     "output_type": "display_data"
    },
    {
     "data": {
      "application/vnd.jupyter.widget-view+json": {
       "model_id": "",
       "version_major": 2,
       "version_minor": 0
      },
      "text/plain": [
       "HBox(children=(HTML(value='MAE'), FloatProgress(value=0.0, max=943.0), HTML(value='')))"
      ]
     },
     "metadata": {},
     "output_type": "display_data"
    },
    {
     "data": {
      "application/vnd.jupyter.widget-view+json": {
       "model_id": "",
       "version_major": 2,
       "version_minor": 0
      },
      "text/plain": [
       "HBox(children=(HTML(value='MAE'), FloatProgress(value=0.0, max=943.0), HTML(value='')))"
      ]
     },
     "metadata": {},
     "output_type": "display_data"
    },
    {
     "data": {
      "application/vnd.jupyter.widget-view+json": {
       "model_id": "",
       "version_major": 2,
       "version_minor": 0
      },
      "text/plain": [
       "HBox(children=(HTML(value='Epoch'), FloatProgress(value=0.0, max=10.0), HTML(value='')))"
      ]
     },
     "metadata": {},
     "output_type": "display_data"
    },
    {
     "data": {
      "application/vnd.jupyter.widget-view+json": {
       "model_id": "",
       "version_major": 2,
       "version_minor": 0
      },
      "text/plain": [
       "HBox(children=(HTML(value=''), FloatProgress(value=0.0, max=943.0), HTML(value='')))"
      ]
     },
     "metadata": {},
     "output_type": "display_data"
    },
    {
     "data": {
      "application/vnd.jupyter.widget-view+json": {
       "model_id": "",
       "version_major": 2,
       "version_minor": 0
      },
      "text/plain": [
       "HBox(children=(HTML(value='MAE'), FloatProgress(value=0.0, max=943.0), HTML(value='')))"
      ]
     },
     "metadata": {},
     "output_type": "display_data"
    },
    {
     "data": {
      "application/vnd.jupyter.widget-view+json": {
       "model_id": "",
       "version_major": 2,
       "version_minor": 0
      },
      "text/plain": [
       "HBox(children=(HTML(value='MAE'), FloatProgress(value=0.0, max=943.0), HTML(value='')))"
      ]
     },
     "metadata": {},
     "output_type": "display_data"
    },
    {
     "data": {
      "application/vnd.jupyter.widget-view+json": {
       "model_id": "",
       "version_major": 2,
       "version_minor": 0
      },
      "text/plain": [
       "HBox(children=(HTML(value='Epoch'), FloatProgress(value=0.0, max=10.0), HTML(value='')))"
      ]
     },
     "metadata": {},
     "output_type": "display_data"
    },
    {
     "data": {
      "application/vnd.jupyter.widget-view+json": {
       "model_id": "",
       "version_major": 2,
       "version_minor": 0
      },
      "text/plain": [
       "HBox(children=(HTML(value=''), FloatProgress(value=0.0, max=943.0), HTML(value='')))"
      ]
     },
     "metadata": {},
     "output_type": "display_data"
    },
    {
     "data": {
      "application/vnd.jupyter.widget-view+json": {
       "model_id": "",
       "version_major": 2,
       "version_minor": 0
      },
      "text/plain": [
       "HBox(children=(HTML(value='MAE'), FloatProgress(value=0.0, max=943.0), HTML(value='')))"
      ]
     },
     "metadata": {},
     "output_type": "display_data"
    },
    {
     "data": {
      "application/vnd.jupyter.widget-view+json": {
       "model_id": "",
       "version_major": 2,
       "version_minor": 0
      },
      "text/plain": [
       "HBox(children=(HTML(value='MAE'), FloatProgress(value=0.0, max=943.0), HTML(value='')))"
      ]
     },
     "metadata": {},
     "output_type": "display_data"
    },
    {
     "data": {
      "application/vnd.jupyter.widget-view+json": {
       "model_id": "",
       "version_major": 2,
       "version_minor": 0
      },
      "text/plain": [
       "HBox(children=(HTML(value='Epoch'), FloatProgress(value=0.0, max=10.0), HTML(value='')))"
      ]
     },
     "metadata": {},
     "output_type": "display_data"
    },
    {
     "data": {
      "application/vnd.jupyter.widget-view+json": {
       "model_id": "",
       "version_major": 2,
       "version_minor": 0
      },
      "text/plain": [
       "HBox(children=(HTML(value=''), FloatProgress(value=0.0, max=943.0), HTML(value='')))"
      ]
     },
     "metadata": {},
     "output_type": "display_data"
    },
    {
     "data": {
      "application/vnd.jupyter.widget-view+json": {
       "model_id": "",
       "version_major": 2,
       "version_minor": 0
      },
      "text/plain": [
       "HBox(children=(HTML(value='MAE'), FloatProgress(value=0.0, max=943.0), HTML(value='')))"
      ]
     },
     "metadata": {},
     "output_type": "display_data"
    },
    {
     "data": {
      "application/vnd.jupyter.widget-view+json": {
       "model_id": "",
       "version_major": 2,
       "version_minor": 0
      },
      "text/plain": [
       "HBox(children=(HTML(value='MAE'), FloatProgress(value=0.0, max=943.0), HTML(value='')))"
      ]
     },
     "metadata": {},
     "output_type": "display_data"
    },
    {
     "data": {
      "application/vnd.jupyter.widget-view+json": {
       "model_id": "",
       "version_major": 2,
       "version_minor": 0
      },
      "text/plain": [
       "HBox(children=(HTML(value='Epoch'), FloatProgress(value=0.0, max=10.0), HTML(value='')))"
      ]
     },
     "metadata": {},
     "output_type": "display_data"
    },
    {
     "data": {
      "application/vnd.jupyter.widget-view+json": {
       "model_id": "",
       "version_major": 2,
       "version_minor": 0
      },
      "text/plain": [
       "HBox(children=(HTML(value=''), FloatProgress(value=0.0, max=943.0), HTML(value='')))"
      ]
     },
     "metadata": {},
     "output_type": "display_data"
    },
    {
     "data": {
      "application/vnd.jupyter.widget-view+json": {
       "model_id": "",
       "version_major": 2,
       "version_minor": 0
      },
      "text/plain": [
       "HBox(children=(HTML(value='MAE'), FloatProgress(value=0.0, max=943.0), HTML(value='')))"
      ]
     },
     "metadata": {},
     "output_type": "display_data"
    },
    {
     "data": {
      "application/vnd.jupyter.widget-view+json": {
       "model_id": "",
       "version_major": 2,
       "version_minor": 0
      },
      "text/plain": [
       "HBox(children=(HTML(value='MAE'), FloatProgress(value=0.0, max=943.0), HTML(value='')))"
      ]
     },
     "metadata": {},
     "output_type": "display_data"
    },
    {
     "data": {
      "application/vnd.jupyter.widget-view+json": {
       "model_id": "",
       "version_major": 2,
       "version_minor": 0
      },
      "text/plain": [
       "HBox(children=(HTML(value='Epoch'), FloatProgress(value=0.0, max=10.0), HTML(value='')))"
      ]
     },
     "metadata": {},
     "output_type": "display_data"
    },
    {
     "data": {
      "application/vnd.jupyter.widget-view+json": {
       "model_id": "",
       "version_major": 2,
       "version_minor": 0
      },
      "text/plain": [
       "HBox(children=(HTML(value=''), FloatProgress(value=0.0, max=943.0), HTML(value='')))"
      ]
     },
     "metadata": {},
     "output_type": "display_data"
    },
    {
     "data": {
      "application/vnd.jupyter.widget-view+json": {
       "model_id": "",
       "version_major": 2,
       "version_minor": 0
      },
      "text/plain": [
       "HBox(children=(HTML(value='MAE'), FloatProgress(value=0.0, max=943.0), HTML(value='')))"
      ]
     },
     "metadata": {},
     "output_type": "display_data"
    },
    {
     "data": {
      "application/vnd.jupyter.widget-view+json": {
       "model_id": "",
       "version_major": 2,
       "version_minor": 0
      },
      "text/plain": [
       "HBox(children=(HTML(value='MAE'), FloatProgress(value=0.0, max=943.0), HTML(value='')))"
      ]
     },
     "metadata": {},
     "output_type": "display_data"
    },
    {
     "data": {
      "application/vnd.jupyter.widget-view+json": {
       "model_id": "",
       "version_major": 2,
       "version_minor": 0
      },
      "text/plain": [
       "HBox(children=(HTML(value='Epoch'), FloatProgress(value=0.0, max=10.0), HTML(value='')))"
      ]
     },
     "metadata": {},
     "output_type": "display_data"
    },
    {
     "data": {
      "application/vnd.jupyter.widget-view+json": {
       "model_id": "",
       "version_major": 2,
       "version_minor": 0
      },
      "text/plain": [
       "HBox(children=(HTML(value=''), FloatProgress(value=0.0, max=943.0), HTML(value='')))"
      ]
     },
     "metadata": {},
     "output_type": "display_data"
    },
    {
     "data": {
      "application/vnd.jupyter.widget-view+json": {
       "model_id": "",
       "version_major": 2,
       "version_minor": 0
      },
      "text/plain": [
       "HBox(children=(HTML(value='MAE'), FloatProgress(value=0.0, max=943.0), HTML(value='')))"
      ]
     },
     "metadata": {},
     "output_type": "display_data"
    },
    {
     "data": {
      "application/vnd.jupyter.widget-view+json": {
       "model_id": "",
       "version_major": 2,
       "version_minor": 0
      },
      "text/plain": [
       "HBox(children=(HTML(value='MAE'), FloatProgress(value=0.0, max=943.0), HTML(value='')))"
      ]
     },
     "metadata": {},
     "output_type": "display_data"
    },
    {
     "data": {
      "application/vnd.jupyter.widget-view+json": {
       "model_id": "",
       "version_major": 2,
       "version_minor": 0
      },
      "text/plain": [
       "HBox(children=(HTML(value='Epoch'), FloatProgress(value=0.0, max=10.0), HTML(value='')))"
      ]
     },
     "metadata": {},
     "output_type": "display_data"
    },
    {
     "data": {
      "application/vnd.jupyter.widget-view+json": {
       "model_id": "",
       "version_major": 2,
       "version_minor": 0
      },
      "text/plain": [
       "HBox(children=(HTML(value=''), FloatProgress(value=0.0, max=943.0), HTML(value='')))"
      ]
     },
     "metadata": {},
     "output_type": "display_data"
    },
    {
     "data": {
      "application/vnd.jupyter.widget-view+json": {
       "model_id": "",
       "version_major": 2,
       "version_minor": 0
      },
      "text/plain": [
       "HBox(children=(HTML(value='MAE'), FloatProgress(value=0.0, max=943.0), HTML(value='')))"
      ]
     },
     "metadata": {},
     "output_type": "display_data"
    },
    {
     "data": {
      "application/vnd.jupyter.widget-view+json": {
       "model_id": "",
       "version_major": 2,
       "version_minor": 0
      },
      "text/plain": [
       "HBox(children=(HTML(value='MAE'), FloatProgress(value=0.0, max=943.0), HTML(value='')))"
      ]
     },
     "metadata": {},
     "output_type": "display_data"
    },
    {
     "data": {
      "application/vnd.jupyter.widget-view+json": {
       "model_id": "",
       "version_major": 2,
       "version_minor": 0
      },
      "text/plain": [
       "HBox(children=(HTML(value='Epoch'), FloatProgress(value=0.0, max=10.0), HTML(value='')))"
      ]
     },
     "metadata": {},
     "output_type": "display_data"
    },
    {
     "data": {
      "application/vnd.jupyter.widget-view+json": {
       "model_id": "",
       "version_major": 2,
       "version_minor": 0
      },
      "text/plain": [
       "HBox(children=(HTML(value=''), FloatProgress(value=0.0, max=943.0), HTML(value='')))"
      ]
     },
     "metadata": {},
     "output_type": "display_data"
    },
    {
     "data": {
      "application/vnd.jupyter.widget-view+json": {
       "model_id": "",
       "version_major": 2,
       "version_minor": 0
      },
      "text/plain": [
       "HBox(children=(HTML(value='MAE'), FloatProgress(value=0.0, max=943.0), HTML(value='')))"
      ]
     },
     "metadata": {},
     "output_type": "display_data"
    },
    {
     "data": {
      "application/vnd.jupyter.widget-view+json": {
       "model_id": "",
       "version_major": 2,
       "version_minor": 0
      },
      "text/plain": [
       "HBox(children=(HTML(value='MAE'), FloatProgress(value=0.0, max=943.0), HTML(value='')))"
      ]
     },
     "metadata": {},
     "output_type": "display_data"
    },
    {
     "data": {
      "application/vnd.jupyter.widget-view+json": {
       "model_id": "",
       "version_major": 2,
       "version_minor": 0
      },
      "text/plain": [
       "HBox(children=(HTML(value='Epoch'), FloatProgress(value=0.0, max=10.0), HTML(value='')))"
      ]
     },
     "metadata": {},
     "output_type": "display_data"
    },
    {
     "data": {
      "application/vnd.jupyter.widget-view+json": {
       "model_id": "",
       "version_major": 2,
       "version_minor": 0
      },
      "text/plain": [
       "HBox(children=(HTML(value=''), FloatProgress(value=0.0, max=943.0), HTML(value='')))"
      ]
     },
     "metadata": {},
     "output_type": "display_data"
    },
    {
     "data": {
      "application/vnd.jupyter.widget-view+json": {
       "model_id": "",
       "version_major": 2,
       "version_minor": 0
      },
      "text/plain": [
       "HBox(children=(HTML(value='MAE'), FloatProgress(value=0.0, max=943.0), HTML(value='')))"
      ]
     },
     "metadata": {},
     "output_type": "display_data"
    },
    {
     "data": {
      "application/vnd.jupyter.widget-view+json": {
       "model_id": "",
       "version_major": 2,
       "version_minor": 0
      },
      "text/plain": [
       "HBox(children=(HTML(value='MAE'), FloatProgress(value=0.0, max=943.0), HTML(value='')))"
      ]
     },
     "metadata": {},
     "output_type": "display_data"
    }
   ],
   "source": [
    "import math\n",
    "import random\n",
    "import sys\n",
    "import numpy as np\n",
    "import pandas as pd\n",
    "pd.options.display.float_format = '{:,.4f}'.format\n",
    "\n",
    "\n",
    "# Número de usuarios e items\n",
    "NUM_USERS = 943\n",
    "NUM_ITEMS = 1682\n",
    "\n",
    "\n",
    "# Ruta del los datasets de entrenamiento y test\n",
    "TRAIN_RATINGS_FILE = './../data/movielens_100K_train_test/movielens_100k_training.txt'\n",
    "TEST_RATINGS_FILE = './../data/movielens_100K_train_test/movielens_100k_test.txt'\n",
    "\n",
    "# Lectura de los Datasets de Entrenamiento y Test\n",
    "train_ratings = read_ratings_matrix(file=TRAIN_RATINGS_FILE)\n",
    "test_ratings = read_ratings_matrix(file=TEST_RATINGS_FILE)\n",
    "\n",
    "# Obtengo la nota media de la base de datos\n",
    "avg = get_avg_ratings(ratings_matrix=train_ratings)\n",
    "\n",
    "\n",
    "# Factores y Epochs\n",
    "MAX_FACTORS = 40\n",
    "GAP = 2\n",
    "EPOCHS = 10\n",
    "\n",
    "# Guardo en una lista los experimentos realizados, siendo un experimento una lista con 4 posiciones:\n",
    "#     1.- Método: PMF o PMF_Biased\n",
    "#     2.- K: Número de Factores\n",
    "#     3.- MAE\n",
    "#     4.- Entrenamiento o Test del MAE\n",
    "experiments = []\n",
    "\n",
    "for k in tqdm(range(GAP, MAX_FACTORS+1, GAP), desc='Factores', leave=False):\n",
    "    \n",
    "    # Ajuste del modelo\n",
    "    bu, bi, p, q = pmf_biased(ratings_matrix=train_ratings, num_factors=k, avg=avg, epochs=EPOCHS,\n",
    "                                learning_rate=0.01, regularization_rate=0.1)\n",
    "    \n",
    "    # Obtenemos las predicciones\n",
    "    predictions_biased_pmf = calculate_biased_predictions(avg=avg, bu=bu, bi=bi, p=p, q=q, num_factors=k)\n",
    "    \n",
    "    # Calculos del MAE\n",
    "    mae_train = get_mae(ratings_matrix=train_ratings, predictions_matrix=predictions_biased_pmf)\n",
    "    mae_test = get_mae(ratings_matrix=test_ratings, predictions_matrix=predictions_biased_pmf)\n",
    "    \n",
    "    # Guardamos los resultados\n",
    "    experiments.append([k, mae_train, \"Train\"])\n",
    "    experiments.append([k, mae_test, \"Test\"])\n"
   ]
  },
  {
   "cell_type": "markdown",
   "metadata": {},
   "source": [
    "* Pasamos los resultados de los experimentos a un DataFrame:"
   ]
  },
  {
   "cell_type": "code",
   "execution_count": 6,
   "metadata": {},
   "outputs": [
    {
     "data": {
      "text/html": [
       "<style  type=\"text/css\" >\n",
       "#T_3af70b7e_9657_11eb_9e04_acde48001122row0_col1,#T_3af70b7e_9657_11eb_9e04_acde48001122row1_col19{\n",
       "            background-color:  red;\n",
       "        }</style><table id=\"T_3af70b7e_9657_11eb_9e04_acde48001122\" ><thead>    <tr>        <th class=\"blank level0\" ></th>        <th class=\"col_heading level0 col0\" colspan=20>MAE</th>    </tr>    <tr>        <th class=\"index_name level1\" >K-Factores</th>        <th class=\"col_heading level1 col0\" >2</th>        <th class=\"col_heading level1 col1\" >4</th>        <th class=\"col_heading level1 col2\" >6</th>        <th class=\"col_heading level1 col3\" >8</th>        <th class=\"col_heading level1 col4\" >10</th>        <th class=\"col_heading level1 col5\" >12</th>        <th class=\"col_heading level1 col6\" >14</th>        <th class=\"col_heading level1 col7\" >16</th>        <th class=\"col_heading level1 col8\" >18</th>        <th class=\"col_heading level1 col9\" >20</th>        <th class=\"col_heading level1 col10\" >22</th>        <th class=\"col_heading level1 col11\" >24</th>        <th class=\"col_heading level1 col12\" >26</th>        <th class=\"col_heading level1 col13\" >28</th>        <th class=\"col_heading level1 col14\" >30</th>        <th class=\"col_heading level1 col15\" >32</th>        <th class=\"col_heading level1 col16\" >34</th>        <th class=\"col_heading level1 col17\" >36</th>        <th class=\"col_heading level1 col18\" >38</th>        <th class=\"col_heading level1 col19\" >40</th>    </tr>    <tr>        <th class=\"index_name level0\" >Train/Test</th>        <th class=\"blank\" ></th>        <th class=\"blank\" ></th>        <th class=\"blank\" ></th>        <th class=\"blank\" ></th>        <th class=\"blank\" ></th>        <th class=\"blank\" ></th>        <th class=\"blank\" ></th>        <th class=\"blank\" ></th>        <th class=\"blank\" ></th>        <th class=\"blank\" ></th>        <th class=\"blank\" ></th>        <th class=\"blank\" ></th>        <th class=\"blank\" ></th>        <th class=\"blank\" ></th>        <th class=\"blank\" ></th>        <th class=\"blank\" ></th>        <th class=\"blank\" ></th>        <th class=\"blank\" ></th>        <th class=\"blank\" ></th>        <th class=\"blank\" ></th>    </tr></thead><tbody>\n",
       "                <tr>\n",
       "                        <th id=\"T_3af70b7e_9657_11eb_9e04_acde48001122level0_row0\" class=\"row_heading level0 row0\" >Test</th>\n",
       "                        <td id=\"T_3af70b7e_9657_11eb_9e04_acde48001122row0_col0\" class=\"data row0 col0\" >0.795475</td>\n",
       "                        <td id=\"T_3af70b7e_9657_11eb_9e04_acde48001122row0_col1\" class=\"data row0 col1\" >0.794371</td>\n",
       "                        <td id=\"T_3af70b7e_9657_11eb_9e04_acde48001122row0_col2\" class=\"data row0 col2\" >0.802500</td>\n",
       "                        <td id=\"T_3af70b7e_9657_11eb_9e04_acde48001122row0_col3\" class=\"data row0 col3\" >0.800795</td>\n",
       "                        <td id=\"T_3af70b7e_9657_11eb_9e04_acde48001122row0_col4\" class=\"data row0 col4\" >0.801332</td>\n",
       "                        <td id=\"T_3af70b7e_9657_11eb_9e04_acde48001122row0_col5\" class=\"data row0 col5\" >0.803258</td>\n",
       "                        <td id=\"T_3af70b7e_9657_11eb_9e04_acde48001122row0_col6\" class=\"data row0 col6\" >0.809259</td>\n",
       "                        <td id=\"T_3af70b7e_9657_11eb_9e04_acde48001122row0_col7\" class=\"data row0 col7\" >0.809570</td>\n",
       "                        <td id=\"T_3af70b7e_9657_11eb_9e04_acde48001122row0_col8\" class=\"data row0 col8\" >0.814289</td>\n",
       "                        <td id=\"T_3af70b7e_9657_11eb_9e04_acde48001122row0_col9\" class=\"data row0 col9\" >0.812766</td>\n",
       "                        <td id=\"T_3af70b7e_9657_11eb_9e04_acde48001122row0_col10\" class=\"data row0 col10\" >0.819998</td>\n",
       "                        <td id=\"T_3af70b7e_9657_11eb_9e04_acde48001122row0_col11\" class=\"data row0 col11\" >0.813441</td>\n",
       "                        <td id=\"T_3af70b7e_9657_11eb_9e04_acde48001122row0_col12\" class=\"data row0 col12\" >0.824424</td>\n",
       "                        <td id=\"T_3af70b7e_9657_11eb_9e04_acde48001122row0_col13\" class=\"data row0 col13\" >0.813677</td>\n",
       "                        <td id=\"T_3af70b7e_9657_11eb_9e04_acde48001122row0_col14\" class=\"data row0 col14\" >0.813811</td>\n",
       "                        <td id=\"T_3af70b7e_9657_11eb_9e04_acde48001122row0_col15\" class=\"data row0 col15\" >0.819217</td>\n",
       "                        <td id=\"T_3af70b7e_9657_11eb_9e04_acde48001122row0_col16\" class=\"data row0 col16\" >0.833604</td>\n",
       "                        <td id=\"T_3af70b7e_9657_11eb_9e04_acde48001122row0_col17\" class=\"data row0 col17\" >0.826610</td>\n",
       "                        <td id=\"T_3af70b7e_9657_11eb_9e04_acde48001122row0_col18\" class=\"data row0 col18\" >0.833152</td>\n",
       "                        <td id=\"T_3af70b7e_9657_11eb_9e04_acde48001122row0_col19\" class=\"data row0 col19\" >0.835529</td>\n",
       "            </tr>\n",
       "            <tr>\n",
       "                        <th id=\"T_3af70b7e_9657_11eb_9e04_acde48001122level0_row1\" class=\"row_heading level0 row1\" >Train</th>\n",
       "                        <td id=\"T_3af70b7e_9657_11eb_9e04_acde48001122row1_col0\" class=\"data row1 col0\" >0.732000</td>\n",
       "                        <td id=\"T_3af70b7e_9657_11eb_9e04_acde48001122row1_col1\" class=\"data row1 col1\" >0.726408</td>\n",
       "                        <td id=\"T_3af70b7e_9657_11eb_9e04_acde48001122row1_col2\" class=\"data row1 col2\" >0.720611</td>\n",
       "                        <td id=\"T_3af70b7e_9657_11eb_9e04_acde48001122row1_col3\" class=\"data row1 col3\" >0.715359</td>\n",
       "                        <td id=\"T_3af70b7e_9657_11eb_9e04_acde48001122row1_col4\" class=\"data row1 col4\" >0.711746</td>\n",
       "                        <td id=\"T_3af70b7e_9657_11eb_9e04_acde48001122row1_col5\" class=\"data row1 col5\" >0.708110</td>\n",
       "                        <td id=\"T_3af70b7e_9657_11eb_9e04_acde48001122row1_col6\" class=\"data row1 col6\" >0.699637</td>\n",
       "                        <td id=\"T_3af70b7e_9657_11eb_9e04_acde48001122row1_col7\" class=\"data row1 col7\" >0.697290</td>\n",
       "                        <td id=\"T_3af70b7e_9657_11eb_9e04_acde48001122row1_col8\" class=\"data row1 col8\" >0.692616</td>\n",
       "                        <td id=\"T_3af70b7e_9657_11eb_9e04_acde48001122row1_col9\" class=\"data row1 col9\" >0.685644</td>\n",
       "                        <td id=\"T_3af70b7e_9657_11eb_9e04_acde48001122row1_col10\" class=\"data row1 col10\" >0.681326</td>\n",
       "                        <td id=\"T_3af70b7e_9657_11eb_9e04_acde48001122row1_col11\" class=\"data row1 col11\" >0.677330</td>\n",
       "                        <td id=\"T_3af70b7e_9657_11eb_9e04_acde48001122row1_col12\" class=\"data row1 col12\" >0.673271</td>\n",
       "                        <td id=\"T_3af70b7e_9657_11eb_9e04_acde48001122row1_col13\" class=\"data row1 col13\" >0.668195</td>\n",
       "                        <td id=\"T_3af70b7e_9657_11eb_9e04_acde48001122row1_col14\" class=\"data row1 col14\" >0.664462</td>\n",
       "                        <td id=\"T_3af70b7e_9657_11eb_9e04_acde48001122row1_col15\" class=\"data row1 col15\" >0.660214</td>\n",
       "                        <td id=\"T_3af70b7e_9657_11eb_9e04_acde48001122row1_col16\" class=\"data row1 col16\" >0.657149</td>\n",
       "                        <td id=\"T_3af70b7e_9657_11eb_9e04_acde48001122row1_col17\" class=\"data row1 col17\" >0.650410</td>\n",
       "                        <td id=\"T_3af70b7e_9657_11eb_9e04_acde48001122row1_col18\" class=\"data row1 col18\" >0.645076</td>\n",
       "                        <td id=\"T_3af70b7e_9657_11eb_9e04_acde48001122row1_col19\" class=\"data row1 col19\" >0.639929</td>\n",
       "            </tr>\n",
       "    </tbody></table>"
      ],
      "text/plain": [
       "<pandas.io.formats.style.Styler at 0x7fd9bb325990>"
      ]
     },
     "execution_count": 6,
     "metadata": {},
     "output_type": "execute_result"
    }
   ],
   "source": [
    "# Pasamos los resultados de los experimentos a un DataFrame y mostramos los resultados del MAE\n",
    "df_results = pd.DataFrame.from_records(experiments,\n",
    "                                       columns=['K-Factores', 'MAE', 'Train/Test'])\n",
    "\n",
    "df_mae = (pd.pivot_table(df_results, values=['MAE'], index=['Train/Test'], columns=['K-Factores']))\n",
    "\n",
    "df_mae.style.highlight_min(color='red', axis=1)"
   ]
  },
  {
   "cell_type": "markdown",
   "metadata": {},
   "source": [
    "* Pintamos los resultados de los experimentos para seleccionar el número de factores adecuados para nuetros sistema de recomendación:"
   ]
  },
  {
   "cell_type": "code",
   "execution_count": 7,
   "metadata": {},
   "outputs": [
    {
     "data": {
      "image/png": "[encoded data removed]",
      "text/plain": [
       "<Figure size 1440x432 with 2 Axes>"
      ]
     },
     "metadata": {
      "needs_background": "light"
     },
     "output_type": "display_data"
    }
   ],
   "source": [
    "import seaborn as sns\n",
    "import matplotlib.pyplot as plt\n",
    "\n",
    "plt.subplots(figsize = (20, 6))\n",
    "# Pintamos el MAE con los datos de Entrenamiento\n",
    "plt.subplot(1, 2, 1)\n",
    "plt.title('TRAIN: MAE vs K-Factores')\n",
    "plt.grid()\n",
    "sns.lineplot(x=\"K-Factores\", y=\"MAE\", data=df_results[df_results['Train/Test']=='Train'], marker=\"o\")\n",
    "\n",
    "# Pintamos el MAE con los datos de Test\n",
    "plt.subplot(1, 2, 2)\n",
    "plt.title('TEST: MAE vs K-Factores')\n",
    "plt.grid()\n",
    "sns.lineplot(x=\"K-Factores\", y=\"MAE\", data=df_results[df_results['Train/Test']=='Test'], marker=\"o\")\n",
    "\n",
    "plt.show()"
   ]
  },
  {
   "cell_type": "markdown",
   "metadata": {
    "colab_type": "text",
    "id": "-yWizA0nWvg1"
   },
   "source": [
    "## Referencias\n",
    "\n",
    "Mnih, A., & Salakhutdinov, R. R. (2008). **Probabilistic matrix factorization**. In Advances in neural information processing systems (pp. 1257-1264).\n",
    "\n",
    "Koren, Y., Bell, R., & Volinsky, C. (2009). **Matrix factorization techniques for recommender systems**. Computer, (8), 30-37."
   ]
  },
  {
   "cell_type": "markdown",
   "metadata": {
    "colab_type": "text",
    "id": "f6PVZh5Jfzm7"
   },
   "source": [
    "<hr>\n",
    "\n",
    "\n",
    "*Este documento ha sido desarrollado por **Ricardo Moya**, basandose en el material creado por **Fernando Ortega**. Dpto. Sistemas Informáticos, ETSI de Sistemas Informáticos, Universidad Politécnica de Madrid.* respetando la licencia: \"Atribución-NoComercial-CompartirIgual\" definida por **Creative Commons Corporation**.\n",
    "\n",
    "\n",
    "<img src=\"../imgs/CC_BY-NC-SA.png\" alt=\"CC BY-NC\">\n",
    "\n",
    "<p style=\"text-align:center\"><b>Atribución-NoComercial-CompartirIgual</b></p>\n"
   ]
  }
 ],
 "metadata": {
  "colab": {
   "collapsed_sections": [],
   "name": "3.2. PMF-solucion.ipynb",
   "provenance": [],
   "version": "0.3.2"
  },
  "kernelspec": {
   "display_name": "Python 3",
   "language": "python",
   "name": "python3"
  },
  "language_info": {
   "codemirror_mode": {
    "name": "ipython",
    "version": 3
   },
   "file_extension": ".py",
   "mimetype": "text/x-python",
   "name": "python",
   "nbconvert_exporter": "python",
   "pygments_lexer": "ipython3",
   "version": "3.7.9"
  }
 },
 "nbformat": 4,
 "nbformat_minor": 1
}
